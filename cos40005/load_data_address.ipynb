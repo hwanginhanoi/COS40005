{
 "cells": [
  {
   "cell_type": "code",
   "id": "initial_id",
   "metadata": {
    "collapsed": true,
    "ExecuteTime": {
     "end_time": "2024-10-10T07:31:06.688939Z",
     "start_time": "2024-10-10T07:31:06.581384Z"
    }
   },
   "source": [
    "from elasticsearch import Elasticsearch\n",
    "\n",
    "client = Elasticsearch(\"https://localhost:9200/\", basic_auth=(\"elastic\", \"_YnyYSU1F5mv9esOU70a\"), ca_certs= \"./http_ca.crt\")\n",
    "client.info()"
   ],
   "outputs": [
    {
     "data": {
      "text/plain": [
       "ObjectApiResponse({'name': 'ba8d4d04b891', 'cluster_name': 'docker-cluster', 'cluster_uuid': 'VfPIV9u9R2ekihOu9mX1SQ', 'version': {'number': '8.15.2', 'build_flavor': 'default', 'build_type': 'docker', 'build_hash': '98adf7bf6bb69b66ab95b761c9e5aadb0bb059a3', 'build_date': '2024-09-19T10:06:03.564235954Z', 'build_snapshot': False, 'lucene_version': '9.11.1', 'minimum_wire_compatibility_version': '7.17.0', 'minimum_index_compatibility_version': '7.0.0'}, 'tagline': 'You Know, for Search'})"
      ]
     },
     "execution_count": 11,
     "metadata": {},
     "output_type": "execute_result"
    }
   ],
   "execution_count": 11
  },
  {
   "metadata": {
    "ExecuteTime": {
     "end_time": "2024-10-10T08:02:19.952976Z",
     "start_time": "2024-10-10T08:02:19.855598Z"
    }
   },
   "cell_type": "code",
   "source": [
    "import json \n",
    "resp = client.search(\n",
    "    index=\"my-index\",\n",
    "    query={\n",
    "        \"multi_match\": {\n",
    "            \"query\": \"Located on the coast of Maine, Acadia features rugged shorelines, granite peaks, and diverse habitats, making it a popular destination for outdoor enthusiasts.\",\n",
    "            \"fields\": [\"title\",\"description\"]\n",
    "        }\n",
    "  },\n",
    ")\n",
    "resp[\"hits\"][\"hits\"]"
   ],
   "id": "34dfa27229eb985e",
   "outputs": [
    {
     "data": {
      "text/plain": [
       "[{'_index': 'my-index',\n",
       "  '_id': 'tBtidZIBFtksUa6aCRS_',\n",
       "  '_score': 28.41713,\n",
       "  '_source': {'id': 'park_acadia',\n",
       "   'title': 'Acadia National Park',\n",
       "   'description': 'Located on the coast of Maine, Acadia features rugged shorelines, granite peaks, and diverse habitats, making it a popular destination for outdoor enthusiasts.'}},\n",
       " {'_index': 'my-index',\n",
       "  '_id': 'sBtidZIBFtksUa6aCRS_',\n",
       "  '_score': 3.1548824,\n",
       "  '_source': {'id': 'park_yosemite',\n",
       "   'title': 'Yosemite National Park',\n",
       "   'description': 'Famous for its breathtaking granite cliffs, waterfalls, and giant sequoias, Yosemite offers a diverse range of ecosystems and stunning vistas.'}},\n",
       " {'_index': 'my-index',\n",
       "  '_id': 'shtidZIBFtksUa6aCRS_',\n",
       "  '_score': 1.7026049,\n",
       "  '_source': {'id': 'park_yellowstone',\n",
       "   'title': 'Yellowstone National Park',\n",
       "   'description': \"Home to the world's first national park, Yellowstone is known for its geysers, hot springs, and diverse wildlife, including bison and grizzly bears.\"}},\n",
       " {'_index': 'my-index',\n",
       "  '_id': 'sRtidZIBFtksUa6aCRS_',\n",
       "  '_score': 1.4991984,\n",
       "  '_source': {'id': 'park_grand-canyon',\n",
       "   'title': 'Grand Canyon',\n",
       "   'description': 'A UNESCO World Heritage site, the Grand Canyon showcases millions of years of geological history and a variety of ecosystems, from desert to forest.'}},\n",
       " {'_index': 'my-index',\n",
       "  '_id': 'sxtidZIBFtksUa6aCRS_',\n",
       "  '_score': 1.3342903,\n",
       "  '_source': {'id': 'park_zion',\n",
       "   'title': 'Zion National Park',\n",
       "   'description': 'Renowned for its steep red cliffs and canyons, Zion offers a variety of hiking trails and stunning views of its unique geological formations.'}},\n",
       " {'_index': 'my-index',\n",
       "  '_id': 'rxthdZIBFtksUa6a_BSp',\n",
       "  '_score': 0.8514024,\n",
       "  '_source': {'id': 'park_rocky-mountain',\n",
       "   'title': 'Rocky Mountain',\n",
       "   'description': 'Bisected north to south by the Continental Divide, this portion of the Rockies has ecosystems varying from over 150 riparian lakes to montane and subalpine forests to treeless alpine tundra.'}}]"
      ]
     },
     "execution_count": 20,
     "metadata": {},
     "output_type": "execute_result"
    }
   ],
   "execution_count": 20
  },
  {
   "metadata": {},
   "cell_type": "code",
   "outputs": [],
   "execution_count": null,
   "source": "",
   "id": "c26cc1bed8c959dc"
  }
 ],
 "metadata": {
  "kernelspec": {
   "display_name": "Python 3",
   "language": "python",
   "name": "python3"
  },
  "language_info": {
   "codemirror_mode": {
    "name": "ipython",
    "version": 2
   },
   "file_extension": ".py",
   "mimetype": "text/x-python",
   "name": "python",
   "nbconvert_exporter": "python",
   "pygments_lexer": "ipython2",
   "version": "2.7.6"
  }
 },
 "nbformat": 4,
 "nbformat_minor": 5
}
