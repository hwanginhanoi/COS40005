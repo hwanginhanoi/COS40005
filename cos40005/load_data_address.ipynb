{
 "cells": [
  {
   "cell_type": "code",
   "id": "initial_id",
   "metadata": {
    "collapsed": true,
    "ExecuteTime": {
     "end_time": "2024-11-06T06:39:35.456527Z",
     "start_time": "2024-11-06T06:39:35.334054Z"
    }
   },
   "source": [
    "from elasticsearch import Elasticsearch\n",
    "import json "
   ],
   "outputs": [],
   "execution_count": 1
  },
  {
   "metadata": {
    "ExecuteTime": {
     "end_time": "2024-11-14T14:04:12.425853Z",
     "start_time": "2024-11-14T14:04:12.176612Z"
    }
   },
   "cell_type": "code",
   "source": [
    "# Create elasticsearch connection\n",
    "client = Elasticsearch(\"https://localhost:9200/\", basic_auth=(\"elastic\", \"txx7ce39UVrCvqcwL77f\"), ca_certs='./http_ca.crt', verify_certs=False)\n",
    "client.info()"
   ],
   "id": "7a8e5946f8bce31d",
   "outputs": [
    {
     "name": "stderr",
     "output_type": "stream",
     "text": [
      "/Users/hwang/Documents/Swinburne/COS40005/.venv/lib/python3.12/site-packages/urllib3/connectionpool.py:1103: InsecureRequestWarning: Unverified HTTPS request is being made to host 'localhost'. Adding certificate verification is strongly advised. See: https://urllib3.readthedocs.io/en/latest/advanced-usage.html#tls-warnings\n",
      "  warnings.warn(\n"
     ]
    },
    {
     "ename": "AuthenticationException",
     "evalue": "AuthenticationException(401, 'security_exception', 'unable to authenticate user [elastic] for REST request [/]')",
     "output_type": "error",
     "traceback": [
      "\u001B[0;31m---------------------------------------------------------------------------\u001B[0m",
      "\u001B[0;31mAuthenticationException\u001B[0m                   Traceback (most recent call last)",
      "Cell \u001B[0;32mIn[56], line 3\u001B[0m\n\u001B[1;32m      1\u001B[0m \u001B[38;5;66;03m# Create elasticsearch connection\u001B[39;00m\n\u001B[1;32m      2\u001B[0m client \u001B[38;5;241m=\u001B[39m Elasticsearch(\u001B[38;5;124m\"\u001B[39m\u001B[38;5;124mhttps://localhost:9200/\u001B[39m\u001B[38;5;124m\"\u001B[39m, basic_auth\u001B[38;5;241m=\u001B[39m(\u001B[38;5;124m\"\u001B[39m\u001B[38;5;124melastic\u001B[39m\u001B[38;5;124m\"\u001B[39m, \u001B[38;5;124m\"\u001B[39m\u001B[38;5;124mtxx7ce39UVrCvqcwL77f\u001B[39m\u001B[38;5;124m\"\u001B[39m), ca_certs\u001B[38;5;241m=\u001B[39m\u001B[38;5;124m'\u001B[39m\u001B[38;5;124m./http_ca.crt\u001B[39m\u001B[38;5;124m'\u001B[39m, verify_certs\u001B[38;5;241m=\u001B[39m\u001B[38;5;28;01mFalse\u001B[39;00m)\n\u001B[0;32m----> 3\u001B[0m \u001B[43mclient\u001B[49m\u001B[38;5;241;43m.\u001B[39;49m\u001B[43minfo\u001B[49m\u001B[43m(\u001B[49m\u001B[43m)\u001B[49m\n",
      "File \u001B[0;32m~/Documents/Swinburne/COS40005/.venv/lib/python3.12/site-packages/elasticsearch/_sync/client/utils.py:446\u001B[0m, in \u001B[0;36m_rewrite_parameters.<locals>.wrapper.<locals>.wrapped\u001B[0;34m(*args, **kwargs)\u001B[0m\n\u001B[1;32m    443\u001B[0m         \u001B[38;5;28;01mexcept\u001B[39;00m \u001B[38;5;167;01mKeyError\u001B[39;00m:\n\u001B[1;32m    444\u001B[0m             \u001B[38;5;28;01mpass\u001B[39;00m\n\u001B[0;32m--> 446\u001B[0m \u001B[38;5;28;01mreturn\u001B[39;00m \u001B[43mapi\u001B[49m\u001B[43m(\u001B[49m\u001B[38;5;241;43m*\u001B[39;49m\u001B[43margs\u001B[49m\u001B[43m,\u001B[49m\u001B[43m \u001B[49m\u001B[38;5;241;43m*\u001B[39;49m\u001B[38;5;241;43m*\u001B[39;49m\u001B[43mkwargs\u001B[49m\u001B[43m)\u001B[49m\n",
      "File \u001B[0;32m~/Documents/Swinburne/COS40005/.venv/lib/python3.12/site-packages/elasticsearch/_sync/client/__init__.py:2460\u001B[0m, in \u001B[0;36mElasticsearch.info\u001B[0;34m(self, error_trace, filter_path, human, pretty)\u001B[0m\n\u001B[1;32m   2458\u001B[0m     __query[\u001B[38;5;124m\"\u001B[39m\u001B[38;5;124mpretty\u001B[39m\u001B[38;5;124m\"\u001B[39m] \u001B[38;5;241m=\u001B[39m pretty\n\u001B[1;32m   2459\u001B[0m __headers \u001B[38;5;241m=\u001B[39m {\u001B[38;5;124m\"\u001B[39m\u001B[38;5;124maccept\u001B[39m\u001B[38;5;124m\"\u001B[39m: \u001B[38;5;124m\"\u001B[39m\u001B[38;5;124mapplication/json\u001B[39m\u001B[38;5;124m\"\u001B[39m}\n\u001B[0;32m-> 2460\u001B[0m \u001B[38;5;28;01mreturn\u001B[39;00m \u001B[38;5;28;43mself\u001B[39;49m\u001B[38;5;241;43m.\u001B[39;49m\u001B[43mperform_request\u001B[49m\u001B[43m(\u001B[49m\u001B[43m  \u001B[49m\u001B[38;5;66;43;03m# type: ignore[return-value]\u001B[39;49;00m\n\u001B[1;32m   2461\u001B[0m \u001B[43m    \u001B[49m\u001B[38;5;124;43m\"\u001B[39;49m\u001B[38;5;124;43mGET\u001B[39;49m\u001B[38;5;124;43m\"\u001B[39;49m\u001B[43m,\u001B[49m\n\u001B[1;32m   2462\u001B[0m \u001B[43m    \u001B[49m\u001B[43m__path\u001B[49m\u001B[43m,\u001B[49m\n\u001B[1;32m   2463\u001B[0m \u001B[43m    \u001B[49m\u001B[43mparams\u001B[49m\u001B[38;5;241;43m=\u001B[39;49m\u001B[43m__query\u001B[49m\u001B[43m,\u001B[49m\n\u001B[1;32m   2464\u001B[0m \u001B[43m    \u001B[49m\u001B[43mheaders\u001B[49m\u001B[38;5;241;43m=\u001B[39;49m\u001B[43m__headers\u001B[49m\u001B[43m,\u001B[49m\n\u001B[1;32m   2465\u001B[0m \u001B[43m    \u001B[49m\u001B[43mendpoint_id\u001B[49m\u001B[38;5;241;43m=\u001B[39;49m\u001B[38;5;124;43m\"\u001B[39;49m\u001B[38;5;124;43minfo\u001B[39;49m\u001B[38;5;124;43m\"\u001B[39;49m\u001B[43m,\u001B[49m\n\u001B[1;32m   2466\u001B[0m \u001B[43m    \u001B[49m\u001B[43mpath_parts\u001B[49m\u001B[38;5;241;43m=\u001B[39;49m\u001B[43m__path_parts\u001B[49m\u001B[43m,\u001B[49m\n\u001B[1;32m   2467\u001B[0m \u001B[43m\u001B[49m\u001B[43m)\u001B[49m\n",
      "File \u001B[0;32m~/Documents/Swinburne/COS40005/.venv/lib/python3.12/site-packages/elasticsearch/_sync/client/_base.py:271\u001B[0m, in \u001B[0;36mBaseClient.perform_request\u001B[0;34m(self, method, path, params, headers, body, endpoint_id, path_parts)\u001B[0m\n\u001B[1;32m    255\u001B[0m \u001B[38;5;28;01mdef\u001B[39;00m \u001B[38;5;21mperform_request\u001B[39m(\n\u001B[1;32m    256\u001B[0m     \u001B[38;5;28mself\u001B[39m,\n\u001B[1;32m    257\u001B[0m     method: \u001B[38;5;28mstr\u001B[39m,\n\u001B[0;32m   (...)\u001B[0m\n\u001B[1;32m    264\u001B[0m     path_parts: Optional[Mapping[\u001B[38;5;28mstr\u001B[39m, Any]] \u001B[38;5;241m=\u001B[39m \u001B[38;5;28;01mNone\u001B[39;00m,\n\u001B[1;32m    265\u001B[0m ) \u001B[38;5;241m-\u001B[39m\u001B[38;5;241m>\u001B[39m ApiResponse[Any]:\n\u001B[1;32m    266\u001B[0m     \u001B[38;5;28;01mwith\u001B[39;00m \u001B[38;5;28mself\u001B[39m\u001B[38;5;241m.\u001B[39m_otel\u001B[38;5;241m.\u001B[39mspan(\n\u001B[1;32m    267\u001B[0m         method,\n\u001B[1;32m    268\u001B[0m         endpoint_id\u001B[38;5;241m=\u001B[39mendpoint_id,\n\u001B[1;32m    269\u001B[0m         path_parts\u001B[38;5;241m=\u001B[39mpath_parts \u001B[38;5;129;01mor\u001B[39;00m {},\n\u001B[1;32m    270\u001B[0m     ) \u001B[38;5;28;01mas\u001B[39;00m otel_span:\n\u001B[0;32m--> 271\u001B[0m         response \u001B[38;5;241m=\u001B[39m \u001B[38;5;28;43mself\u001B[39;49m\u001B[38;5;241;43m.\u001B[39;49m\u001B[43m_perform_request\u001B[49m\u001B[43m(\u001B[49m\n\u001B[1;32m    272\u001B[0m \u001B[43m            \u001B[49m\u001B[43mmethod\u001B[49m\u001B[43m,\u001B[49m\n\u001B[1;32m    273\u001B[0m \u001B[43m            \u001B[49m\u001B[43mpath\u001B[49m\u001B[43m,\u001B[49m\n\u001B[1;32m    274\u001B[0m \u001B[43m            \u001B[49m\u001B[43mparams\u001B[49m\u001B[38;5;241;43m=\u001B[39;49m\u001B[43mparams\u001B[49m\u001B[43m,\u001B[49m\n\u001B[1;32m    275\u001B[0m \u001B[43m            \u001B[49m\u001B[43mheaders\u001B[49m\u001B[38;5;241;43m=\u001B[39;49m\u001B[43mheaders\u001B[49m\u001B[43m,\u001B[49m\n\u001B[1;32m    276\u001B[0m \u001B[43m            \u001B[49m\u001B[43mbody\u001B[49m\u001B[38;5;241;43m=\u001B[39;49m\u001B[43mbody\u001B[49m\u001B[43m,\u001B[49m\n\u001B[1;32m    277\u001B[0m \u001B[43m            \u001B[49m\u001B[43motel_span\u001B[49m\u001B[38;5;241;43m=\u001B[39;49m\u001B[43motel_span\u001B[49m\u001B[43m,\u001B[49m\n\u001B[1;32m    278\u001B[0m \u001B[43m        \u001B[49m\u001B[43m)\u001B[49m\n\u001B[1;32m    279\u001B[0m         otel_span\u001B[38;5;241m.\u001B[39mset_elastic_cloud_metadata(response\u001B[38;5;241m.\u001B[39mmeta\u001B[38;5;241m.\u001B[39mheaders)\n\u001B[1;32m    280\u001B[0m         \u001B[38;5;28;01mreturn\u001B[39;00m response\n",
      "File \u001B[0;32m~/Documents/Swinburne/COS40005/.venv/lib/python3.12/site-packages/elasticsearch/_sync/client/_base.py:352\u001B[0m, in \u001B[0;36mBaseClient._perform_request\u001B[0;34m(self, method, path, params, headers, body, otel_span)\u001B[0m\n\u001B[1;32m    349\u001B[0m         \u001B[38;5;28;01mexcept\u001B[39;00m (\u001B[38;5;167;01mValueError\u001B[39;00m, \u001B[38;5;167;01mKeyError\u001B[39;00m, \u001B[38;5;167;01mTypeError\u001B[39;00m):\n\u001B[1;32m    350\u001B[0m             \u001B[38;5;28;01mpass\u001B[39;00m\n\u001B[0;32m--> 352\u001B[0m     \u001B[38;5;28;01mraise\u001B[39;00m HTTP_EXCEPTIONS\u001B[38;5;241m.\u001B[39mget(meta\u001B[38;5;241m.\u001B[39mstatus, ApiError)(\n\u001B[1;32m    353\u001B[0m         message\u001B[38;5;241m=\u001B[39mmessage, meta\u001B[38;5;241m=\u001B[39mmeta, body\u001B[38;5;241m=\u001B[39mresp_body\n\u001B[1;32m    354\u001B[0m     )\n\u001B[1;32m    356\u001B[0m \u001B[38;5;66;03m# 'X-Elastic-Product: Elasticsearch' should be on every 2XX response.\u001B[39;00m\n\u001B[1;32m    357\u001B[0m \u001B[38;5;28;01mif\u001B[39;00m \u001B[38;5;129;01mnot\u001B[39;00m \u001B[38;5;28mself\u001B[39m\u001B[38;5;241m.\u001B[39m_verified_elasticsearch:\n\u001B[1;32m    358\u001B[0m     \u001B[38;5;66;03m# If the header is set we mark the server as verified.\u001B[39;00m\n",
      "\u001B[0;31mAuthenticationException\u001B[0m: AuthenticationException(401, 'security_exception', 'unable to authenticate user [elastic] for REST request [/]')"
     ]
    }
   ],
   "execution_count": 56
  },
  {
   "metadata": {},
   "cell_type": "code",
   "source": [
    "# Load data tinh_tp\n",
    "with open('./data_address/tinh_tp.json', 'r', encoding=\"utf\") as file:\n",
    "    data = json.load(file)\n",
    "\n",
    "for i in data:\n",
    "    data[i][\"id\"] = i\n",
    "    data[i][\"abbreviation\"] = ' '.join([''.join([c.lower()[0] for c in data[i][\"name_with_type\"].split(' ')]), ''.join([c.lower()[0] for c in data[i][\"name\"].split(' ')])])\n",
    "    resp = client.index(index=\"tinh_tp\", id=i, document=data[i])\n",
    "    print(resp[\"result\"])\n",
    "    \n"
   ],
   "id": "34dfa27229eb985e",
   "outputs": [],
   "execution_count": null
  },
  {
   "metadata": {},
   "cell_type": "code",
   "source": [
    "# Load data quan_huyen\n",
    "with open('./data_address/quan_huyen.json', 'r', encoding=\"utf\") as file:\n",
    "    data = json.load(file)\n",
    "\n",
    "for i in data:\n",
    "    data[i][\"id\"] = i\n",
    "    data[i][\"abbreviation\"] = ' '.join([''.join([c.lower()[0] if len(c) > 0 else '' for c in data[i][\"name_with_type\"].split(' ')]), ''.join([c.lower()[0] if len(c) > 0 else '' for c in data[i][\"name\"].split(' ')])])\n",
    "    resp = client.index(index=\"quan_huyen\", id=i, document=data[i])\n",
    "    print(resp[\"result\"])"
   ],
   "id": "aab2d9ddc4b3a72b",
   "outputs": [],
   "execution_count": null
  },
  {
   "metadata": {},
   "cell_type": "code",
   "source": [
    "# Load data xa_phuong\n",
    "with open('./data_address/xa_phuong.json', 'r', encoding=\"utf\") as file:\n",
    "    data = json.load(file)\n",
    "\n",
    "for i in data:\n",
    "    data[i][\"id\"] = i\n",
    "    data[i][\"abbreviation\"] = ' '.join([''.join([c.lower()[0] if len(c) > 0 else '' for c in data[i][\"name_with_type\"].split(' ')]), ''.join([c.lower()[0] if len(c) > 0 else '' for c in data[i][\"name\"].split(' ')])])\n",
    "    resp = client.index(index=\"xa_phuong\", id=i, document=data[i])\n",
    "    print(resp[\"result\"])"
   ],
   "id": "2b18316a31b714d6",
   "outputs": [],
   "execution_count": null
  },
  {
   "metadata": {},
   "cell_type": "code",
   "source": [
    "# Test search\n",
    "resp = client.search(\n",
    "    index=\"tinh_tp\",\n",
    "    query={\n",
    "        \"multi_match\": {\n",
    "            \"query\": \"tphcm\",\n",
    "            \"fields\": [\"parent_code\",\"name\",\"slug\",\"name_with_type\",\"path_with_type\",\"abbreviation\"]\n",
    "        }\n",
    "    },\n",
    ")\n",
    "resp[\"hits\"][\"hits\"]\n",
    "# if len(resp[\"hits\"][\"hits\"]) > 0:\n",
    "#     print()\n",
    "# else:\n",
    "#     print(\"Not found\")"
   ],
   "id": "6fd08b809933f03f",
   "outputs": [],
   "execution_count": null
  },
  {
   "metadata": {},
   "cell_type": "code",
   "source": [
    "import pandas as pd\n",
    "df = pd.DataFrame(pd.read_csv(\"./output.csv\"))\n",
    "df_no_duplicates = df.drop_duplicates(subset=df.columns.difference(['id']))\n",
    "df_no_duplicates.drop('title', axis=1, inplace=True)\n",
    "df_no_duplicates"
   ],
   "id": "c26cc1bed8c959dc",
   "outputs": [],
   "execution_count": null
  },
  {
   "metadata": {},
   "cell_type": "code",
   "source": [
    "\n",
    "df_filtered = df_no_duplicates[df_no_duplicates['province'].isin([1, 79, 31, 92, 48])]\n",
    "df_filtered = df_filtered[df_filtered['is_rent'] == 0]\n",
    "df_filtered.to_csv('./output_cleaned.csv', index=False)"
   ],
   "id": "74867d87196a35a2",
   "outputs": [],
   "execution_count": null
  },
  {
   "metadata": {},
   "cell_type": "code",
   "source": "",
   "id": "2c1c9e3b58385c2a",
   "outputs": [],
   "execution_count": null
  },
  {
   "metadata": {},
   "cell_type": "code",
   "source": "",
   "id": "79b29e185efd4c45",
   "outputs": [],
   "execution_count": null
  }
 ],
 "metadata": {
  "kernelspec": {
   "display_name": "Python 3",
   "language": "python",
   "name": "python3"
  },
  "language_info": {
   "codemirror_mode": {
    "name": "ipython",
    "version": 2
   },
   "file_extension": ".py",
   "mimetype": "text/x-python",
   "name": "python",
   "nbconvert_exporter": "python",
   "pygments_lexer": "ipython2",
   "version": "2.7.6"
  }
 },
 "nbformat": 4,
 "nbformat_minor": 5
}
