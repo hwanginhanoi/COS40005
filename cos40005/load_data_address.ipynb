{
 "cells": [
  {
   "cell_type": "code",
   "id": "initial_id",
   "metadata": {
    "collapsed": true
   },
   "source": [
    "from elasticsearch import Elasticsearch\n",
    "import json "
   ],
   "outputs": [],
   "execution_count": null
  },
  {
   "metadata": {},
   "cell_type": "code",
   "source": [
    "# Create elasticsearch connection\n",
    "client = Elasticsearch(\"https://localhost:9200/\", basic_auth=(\"elastic\", \"txx7ce39UVrCvqcwL77f\"), verify_certs=False)\n",
    "client.info()"
   ],
   "id": "7a8e5946f8bce31d",
   "outputs": [],
   "execution_count": null
  },
  {
   "metadata": {},
   "cell_type": "code",
   "source": [
    "# Load data tinh_tp\n",
    "with open('./data_address/tinh_tp.json', 'r', encoding=\"utf\") as file:\n",
    "    data = json.load(file)\n",
    "\n",
    "for i in data:\n",
    "    data[i][\"id\"] = i\n",
    "    data[i][\"abbreviation\"] = ' '.join([''.join([c.lower()[0] for c in data[i][\"name_with_type\"].split(' ')]), ''.join([c.lower()[0] for c in data[i][\"name\"].split(' ')])])\n",
    "    resp = client.index(index=\"tinh_tp\", id=i, document=data[i])\n",
    "    print(resp[\"result\"])\n",
    "    \n"
   ],
   "id": "34dfa27229eb985e",
   "outputs": [],
   "execution_count": null
  },
  {
   "metadata": {},
   "cell_type": "code",
   "source": [
    "# Load data quan_huyen\n",
    "with open('./data_address/quan_huyen.json', 'r', encoding=\"utf\") as file:\n",
    "    data = json.load(file)\n",
    "\n",
    "for i in data:\n",
    "    data[i][\"id\"] = i\n",
    "    data[i][\"abbreviation\"] = ' '.join([''.join([c.lower()[0] if len(c) > 0 else '' for c in data[i][\"name_with_type\"].split(' ')]), ''.join([c.lower()[0] if len(c) > 0 else '' for c in data[i][\"name\"].split(' ')])])\n",
    "    resp = client.index(index=\"quan_huyen\", id=i, document=data[i])\n",
    "    print(resp[\"result\"])"
   ],
   "id": "aab2d9ddc4b3a72b",
   "outputs": [],
   "execution_count": null
  },
  {
   "metadata": {},
   "cell_type": "code",
   "source": [
    "# Load data xa_phuong\n",
    "with open('./data_address/xa_phuong.json', 'r', encoding=\"utf\") as file:\n",
    "    data = json.load(file)\n",
    "\n",
    "for i in data:\n",
    "    data[i][\"id\"] = i\n",
    "    data[i][\"abbreviation\"] = ' '.join([''.join([c.lower()[0] if len(c) > 0 else '' for c in data[i][\"name_with_type\"].split(' ')]), ''.join([c.lower()[0] if len(c) > 0 else '' for c in data[i][\"name\"].split(' ')])])\n",
    "    resp = client.index(index=\"xa_phuong\", id=i, document=data[i])\n",
    "    print(resp[\"result\"])"
   ],
   "id": "2b18316a31b714d6",
   "outputs": [],
   "execution_count": null
  },
  {
   "metadata": {},
   "cell_type": "code",
   "source": [
    "# Test search\n",
    "resp = client.search(\n",
    "    index=\"tinh_tp\",\n",
    "    query={\n",
    "        \"multi_match\": {\n",
    "            \"query\": \"tphcm\",\n",
    "            \"fields\": [\"parent_code\",\"name\",\"slug\",\"name_with_type\",\"path_with_type\",\"abbreviation\"]\n",
    "        }\n",
    "    },\n",
    ")\n",
    "resp[\"hits\"][\"hits\"]\n",
    "# if len(resp[\"hits\"][\"hits\"]) > 0:\n",
    "#     print()\n",
    "# else:\n",
    "#     print(\"Not found\")"
   ],
   "id": "6fd08b809933f03f",
   "outputs": [],
   "execution_count": null
  },
  {
   "metadata": {},
   "cell_type": "code",
   "source": [
    "import pandas as pd\n",
    "df = pd.DataFrame(pd.read_csv(\"./output.csv\"))\n",
    "df_no_duplicates = df.drop_duplicates(subset=df.columns.difference(['id']))\n",
    "df_no_duplicates.drop('title', axis=1, inplace=True)\n",
    "df_no_duplicates"
   ],
   "id": "c26cc1bed8c959dc",
   "outputs": [],
   "execution_count": null
  },
  {
   "metadata": {},
   "cell_type": "code",
   "source": [
    "\n",
    "df_filtered = df_no_duplicates[df_no_duplicates['province'].isin([1, 79, 31, 92, 48])]\n",
    "df_filtered = df_filtered[df_filtered['is_rent'] == 0]\n",
    "df_filtered.to_csv('./output_cleaned.csv', index=False)"
   ],
   "id": "74867d87196a35a2",
   "outputs": [],
   "execution_count": null
  },
  {
   "metadata": {},
   "cell_type": "code",
   "source": "",
   "id": "2c1c9e3b58385c2a",
   "outputs": [],
   "execution_count": null
  },
  {
   "metadata": {},
   "cell_type": "code",
   "source": "",
   "id": "79b29e185efd4c45",
   "outputs": [],
   "execution_count": null
  }
 ],
 "metadata": {
  "kernelspec": {
   "display_name": "Python 3",
   "language": "python",
   "name": "python3"
  },
  "language_info": {
   "codemirror_mode": {
    "name": "ipython",
    "version": 2
   },
   "file_extension": ".py",
   "mimetype": "text/x-python",
   "name": "python",
   "nbconvert_exporter": "python",
   "pygments_lexer": "ipython2",
   "version": "2.7.6"
  }
 },
 "nbformat": 4,
 "nbformat_minor": 5
}
