{
 "cells": [
  {
   "cell_type": "code",
   "id": "initial_id",
   "metadata": {
    "collapsed": true,
    "ExecuteTime": {
     "end_time": "2024-11-06T06:39:35.456527Z",
     "start_time": "2024-11-06T06:39:35.334054Z"
    }
   },
   "source": [
    "from elasticsearch import Elasticsearch\n",
    "import json "
   ],
   "outputs": [],
   "execution_count": 1
  },
  {
   "metadata": {
    "ExecuteTime": {
     "end_time": "2024-11-06T06:39:48.010502Z",
     "start_time": "2024-11-06T06:39:47.948021Z"
    }
   },
   "cell_type": "code",
   "source": [
    "# Create elasticsearch connection\n",
    "client = Elasticsearch(\"https://localhost:9200/\", basic_auth=(\"elastic\", \"txx7ce39UVrCvqcwL77f\"), ca_certs='./http_ca.crt', verify_certs=False)\n",
    "client.info()"
   ],
   "id": "7a8e5946f8bce31d",
   "outputs": [
    {
     "name": "stderr",
     "output_type": "stream",
     "text": [
      "/Users/namkhanhdang/Documents/code/cap_a/COS40005/venv/lib/python3.12/site-packages/urllib3/connectionpool.py:1099: InsecureRequestWarning: Unverified HTTPS request is being made to host 'localhost'. Adding certificate verification is strongly advised. See: https://urllib3.readthedocs.io/en/latest/advanced-usage.html#tls-warnings\n",
      "  warnings.warn(\n"
     ]
    },
    {
     "data": {
      "text/plain": [
       "ObjectApiResponse({'name': 'ac3d583da905', 'cluster_name': 'docker-cluster', 'cluster_uuid': '5U4x8Rf7RWWyWtSqACQN5A', 'version': {'number': '8.15.2', 'build_flavor': 'default', 'build_type': 'docker', 'build_hash': '98adf7bf6bb69b66ab95b761c9e5aadb0bb059a3', 'build_date': '2024-09-19T10:06:03.564235954Z', 'build_snapshot': False, 'lucene_version': '9.11.1', 'minimum_wire_compatibility_version': '7.17.0', 'minimum_index_compatibility_version': '7.0.0'}, 'tagline': 'You Know, for Search'})"
      ]
     },
     "execution_count": 4,
     "metadata": {},
     "output_type": "execute_result"
    }
   ],
   "execution_count": 4
  },
  {
   "metadata": {},
   "cell_type": "code",
   "source": [
    "# Load data tinh_tp\n",
    "with open('./data_address/tinh_tp.json', 'r', encoding=\"utf\") as file:\n",
    "    data = json.load(file)\n",
    "\n",
    "for i in data:\n",
    "    data[i][\"id\"] = i\n",
    "    data[i][\"abbreviation\"] = ' '.join([''.join([c.lower()[0] for c in data[i][\"name_with_type\"].split(' ')]), ''.join([c.lower()[0] for c in data[i][\"name\"].split(' ')])])\n",
    "    resp = client.index(index=\"tinh_tp\", id=i, document=data[i])\n",
    "    print(resp[\"result\"])\n",
    "    \n"
   ],
   "id": "34dfa27229eb985e",
   "outputs": [],
   "execution_count": null
  },
  {
   "metadata": {},
   "cell_type": "code",
   "source": [
    "# Load data quan_huyen\n",
    "with open('./data_address/quan_huyen.json', 'r', encoding=\"utf\") as file:\n",
    "    data = json.load(file)\n",
    "\n",
    "for i in data:\n",
    "    data[i][\"id\"] = i\n",
    "    data[i][\"abbreviation\"] = ' '.join([''.join([c.lower()[0] if len(c) > 0 else '' for c in data[i][\"name_with_type\"].split(' ')]), ''.join([c.lower()[0] if len(c) > 0 else '' for c in data[i][\"name\"].split(' ')])])\n",
    "    resp = client.index(index=\"quan_huyen\", id=i, document=data[i])\n",
    "    print(resp[\"result\"])"
   ],
   "id": "aab2d9ddc4b3a72b",
   "outputs": [],
   "execution_count": null
  },
  {
   "metadata": {},
   "cell_type": "code",
   "source": [
    "# Load data xa_phuong\n",
    "with open('./data_address/xa_phuong.json', 'r', encoding=\"utf\") as file:\n",
    "    data = json.load(file)\n",
    "\n",
    "for i in data:\n",
    "    data[i][\"id\"] = i\n",
    "    data[i][\"abbreviation\"] = ' '.join([''.join([c.lower()[0] if len(c) > 0 else '' for c in data[i][\"name_with_type\"].split(' ')]), ''.join([c.lower()[0] if len(c) > 0 else '' for c in data[i][\"name\"].split(' ')])])\n",
    "    resp = client.index(index=\"xa_phuong\", id=i, document=data[i])\n",
    "    print(resp[\"result\"])"
   ],
   "id": "2b18316a31b714d6",
   "outputs": [],
   "execution_count": null
  },
  {
   "metadata": {},
   "cell_type": "code",
   "source": [
    "# Test search\n",
    "resp = client.search(\n",
    "    index=\"tinh_tp\",\n",
    "    query={\n",
    "        \"multi_match\": {\n",
    "            \"query\": \"tphcm\",\n",
    "            \"fields\": [\"parent_code\",\"name\",\"slug\",\"name_with_type\",\"path_with_type\",\"abbreviation\"]\n",
    "        }\n",
    "    },\n",
    ")\n",
    "resp[\"hits\"][\"hits\"]\n",
    "# if len(resp[\"hits\"][\"hits\"]) > 0:\n",
    "#     print()\n",
    "# else:\n",
    "#     print(\"Not found\")"
   ],
   "id": "6fd08b809933f03f",
   "outputs": [],
   "execution_count": null
  },
  {
   "metadata": {},
   "cell_type": "code",
   "source": [
    "import pandas as pd\n",
    "df = pd.DataFrame(pd.read_csv(\"./output.csv\"))\n",
    "df_no_duplicates = df.drop_duplicates(subset=df.columns.difference(['id']))\n",
    "df_no_duplicates.drop('title', axis=1, inplace=True)\n",
    "df_no_duplicates"
   ],
   "id": "c26cc1bed8c959dc",
   "outputs": [],
   "execution_count": null
  },
  {
   "metadata": {},
   "cell_type": "code",
   "source": [
    "\n",
    "df_filtered = df_no_duplicates[df_no_duplicates['province'].isin([1, 79, 31, 92, 48])]\n",
    "df_filtered = df_filtered[df_filtered['is_rent'] == 0]\n",
    "df_filtered.to_csv('./output_cleaned.csv', index=False)"
   ],
   "id": "74867d87196a35a2",
   "outputs": [],
   "execution_count": null
  },
  {
   "metadata": {},
   "cell_type": "code",
   "source": "",
   "id": "2c1c9e3b58385c2a",
   "outputs": [],
   "execution_count": null
  },
  {
   "metadata": {},
   "cell_type": "code",
   "source": "",
   "id": "79b29e185efd4c45",
   "outputs": [],
   "execution_count": null
  }
 ],
 "metadata": {
  "kernelspec": {
   "display_name": "Python 3",
   "language": "python",
   "name": "python3"
  },
  "language_info": {
   "codemirror_mode": {
    "name": "ipython",
    "version": 2
   },
   "file_extension": ".py",
   "mimetype": "text/x-python",
   "name": "python",
   "nbconvert_exporter": "python",
   "pygments_lexer": "ipython2",
   "version": "2.7.6"
  }
 },
 "nbformat": 4,
 "nbformat_minor": 5
}
