{
 "cells": [
  {
   "cell_type": "code",
   "id": "initial_id",
   "metadata": {
    "collapsed": true,
    "ExecuteTime": {
     "end_time": "2024-11-06T06:41:55.707638Z",
     "start_time": "2024-11-06T06:41:55.704522Z"
    }
   },
   "source": [
    "import psycopg2\n",
    "from helper import normalise_price, normalise_area, normalise_address"
   ],
   "outputs": [],
   "execution_count": 3
  },
  {
   "metadata": {
    "ExecuteTime": {
     "end_time": "2024-11-06T06:42:00.598027Z",
     "start_time": "2024-11-06T06:42:00.358255Z"
    }
   },
   "cell_type": "code",
   "source": [
    "conn = psycopg2.connect(database = \"postgres\", \n",
    "                        user = \"postgres.iteuczlaiijtvkpplsms\", \n",
    "                        host= 'aws-0-ap-southeast-1.pooler.supabase.com',\n",
    "                        password = \"aUbEUkOgw23zCDdc\",\n",
    "                        port = 6543)\n",
    "conn.autocommit = True"
   ],
   "id": "6dbed17e207d97f4",
   "outputs": [],
   "execution_count": 5
  },
  {
   "metadata": {
    "ExecuteTime": {
     "end_time": "2024-11-05T15:20:34.670962Z",
     "start_time": "2024-11-05T15:19:32.717911Z"
    }
   },
   "cell_type": "code",
   "source": [
    "cur = conn.cursor()\n",
    "cur.execute(\n",
    "    \"\"\"\n",
    "    SELECT * FROM cos40005_property \n",
    "    WHERE id IS NOT NULL\n",
    "        AND title IS NOT NULL AND title <> ''\n",
    "        AND address IS NOT NULL AND address <> ''\n",
    "        AND price IS NOT NULL AND price <> ''\n",
    "        AND area IS NOT NULL AND area <> '';\n",
    "    \"\"\")\n",
    "rows = cur.fetchall()\n",
    "conn.commit()\n",
    "cur.close()"
   ],
   "id": "ecb468120235cddc",
   "outputs": [],
   "execution_count": 9
  },
  {
   "metadata": {
    "ExecuteTime": {
     "end_time": "2024-11-05T15:20:34.673977Z",
     "start_time": "2024-11-05T15:20:34.671665Z"
    }
   },
   "cell_type": "code",
   "source": "len(rows)",
   "id": "2bd3c2eb43e4d19c",
   "outputs": [
    {
     "data": {
      "text/plain": [
       "101092"
      ]
     },
     "execution_count": 10,
     "metadata": {},
     "output_type": "execute_result"
    }
   ],
   "execution_count": 10
  },
  {
   "metadata": {
    "ExecuteTime": {
     "end_time": "2024-11-05T15:20:34.677516Z",
     "start_time": "2024-11-05T15:20:34.675770Z"
    }
   },
   "cell_type": "code",
   "source": "conn.close()",
   "id": "52b9dc741a55349b",
   "outputs": [],
   "execution_count": 11
  },
  {
   "metadata": {
    "ExecuteTime": {
     "end_time": "2024-11-05T15:20:35.024400Z",
     "start_time": "2024-11-05T15:20:34.678111Z"
    }
   },
   "cell_type": "code",
   "source": [
    "f = open(\"./output.csv\", \"w\")\n",
    "f.write(\"id,price,is_rent,area,province,district,ward,floor,bedroom,toilet\\n\")\n",
    "for row in rows:\n",
    "    id = row[0]\n",
    "    norm_price = normalise_price(row[3])\n",
    "    price = norm_price[\"price\"]\n",
    "    is_rent = norm_price[\"isRent\"]\n",
    "    area = normalise_area(row[4])\n",
    "    norm_addr = normalise_address(row[2])\n",
    "    province = norm_addr[\"province\"]\n",
    "    district = norm_addr[\"district\"]\n",
    "    ward = norm_addr[\"ward\"]\n",
    "    floor = row[5]\n",
    "    bedroom = row[6]\n",
    "    toilet = row[7]\n",
    "    f.write(','.join([id,price,is_rent,area,province,district,ward,floor,bedroom,toilet]) + \"\\n\")\n",
    "f.close()"
   ],
   "id": "32cca7d6b9726b74",
   "outputs": [
    {
     "name": "stderr",
     "output_type": "stream",
     "text": [
      "/Users/namkhanhdang/Documents/code/cap_a/COS40005/venv/lib/python3.12/site-packages/urllib3/connectionpool.py:1099: InsecureRequestWarning: Unverified HTTPS request is being made to host 'localhost'. Adding certificate verification is strongly advised. See: https://urllib3.readthedocs.io/en/latest/advanced-usage.html#tls-warnings\n",
      "  warnings.warn(\n",
      "/Users/namkhanhdang/Documents/code/cap_a/COS40005/venv/lib/python3.12/site-packages/urllib3/connectionpool.py:1099: InsecureRequestWarning: Unverified HTTPS request is being made to host 'localhost'. Adding certificate verification is strongly advised. See: https://urllib3.readthedocs.io/en/latest/advanced-usage.html#tls-warnings\n",
      "  warnings.warn(\n",
      "/Users/namkhanhdang/Documents/code/cap_a/COS40005/venv/lib/python3.12/site-packages/urllib3/connectionpool.py:1099: InsecureRequestWarning: Unverified HTTPS request is being made to host 'localhost'. Adding certificate verification is strongly advised. See: https://urllib3.readthedocs.io/en/latest/advanced-usage.html#tls-warnings\n",
      "  warnings.warn(\n"
     ]
    },
    {
     "ename": "TypeError",
     "evalue": "sequence item 0: expected str instance, int found",
     "output_type": "error",
     "traceback": [
      "\u001B[0;31m---------------------------------------------------------------------------\u001B[0m",
      "\u001B[0;31mTypeError\u001B[0m                                 Traceback (most recent call last)",
      "Cell \u001B[0;32mIn[12], line 16\u001B[0m\n\u001B[1;32m     14\u001B[0m     bedroom \u001B[38;5;241m=\u001B[39m row[\u001B[38;5;241m6\u001B[39m]\n\u001B[1;32m     15\u001B[0m     toilet \u001B[38;5;241m=\u001B[39m row[\u001B[38;5;241m7\u001B[39m]\n\u001B[0;32m---> 16\u001B[0m     f\u001B[38;5;241m.\u001B[39mwrite(\u001B[38;5;124;43m'\u001B[39;49m\u001B[38;5;124;43m,\u001B[39;49m\u001B[38;5;124;43m'\u001B[39;49m\u001B[38;5;241;43m.\u001B[39;49m\u001B[43mjoin\u001B[49m\u001B[43m(\u001B[49m\u001B[43m[\u001B[49m\u001B[38;5;28;43mid\u001B[39;49m\u001B[43m,\u001B[49m\u001B[43mprice\u001B[49m\u001B[43m,\u001B[49m\u001B[43mis_rent\u001B[49m\u001B[43m,\u001B[49m\u001B[43marea\u001B[49m\u001B[43m,\u001B[49m\u001B[43mprovince\u001B[49m\u001B[43m,\u001B[49m\u001B[43mdistrict\u001B[49m\u001B[43m,\u001B[49m\u001B[43mward\u001B[49m\u001B[43m,\u001B[49m\u001B[43mfloor\u001B[49m\u001B[43m,\u001B[49m\u001B[43mbedroom\u001B[49m\u001B[43m,\u001B[49m\u001B[43mtoilet\u001B[49m\u001B[43m]\u001B[49m\u001B[43m)\u001B[49m \u001B[38;5;241m+\u001B[39m \u001B[38;5;124m\"\u001B[39m\u001B[38;5;130;01m\\n\u001B[39;00m\u001B[38;5;124m\"\u001B[39m)\n\u001B[1;32m     17\u001B[0m f\u001B[38;5;241m.\u001B[39mclose()\n",
      "\u001B[0;31mTypeError\u001B[0m: sequence item 0: expected str instance, int found"
     ]
    }
   ],
   "execution_count": 12
  },
  {
   "metadata": {
    "ExecuteTime": {
     "end_time": "2024-11-05T15:20:35.025573Z",
     "start_time": "2024-11-05T15:20:35.025499Z"
    }
   },
   "cell_type": "code",
   "source": [
    "import pandas as pd\n",
    "\n",
    "\n",
    "df = pd.DataFrame(pd.read_csv(\"./output.csv\"))\n",
    "df_no_duplicates = df.drop_duplicates(subset=df.columns.difference(['id']))\n",
    "df_no_duplicates.drop('title', axis=1, inplace=True)\n",
    "df_no_duplicates.to_csv('./output_cleaned.csv', index=False)"
   ],
   "id": "f6fdf1d59a07c46d",
   "outputs": [],
   "execution_count": null
  },
  {
   "metadata": {},
   "cell_type": "code",
   "source": "",
   "id": "d4e4ace0ed0ed0dd",
   "outputs": [],
   "execution_count": null
  }
 ],
 "metadata": {
  "kernelspec": {
   "display_name": "Python 3",
   "language": "python",
   "name": "python3"
  },
  "language_info": {
   "codemirror_mode": {
    "name": "ipython",
    "version": 2
   },
   "file_extension": ".py",
   "mimetype": "text/x-python",
   "name": "python",
   "nbconvert_exporter": "python",
   "pygments_lexer": "ipython2",
   "version": "2.7.6"
  }
 },
 "nbformat": 4,
 "nbformat_minor": 5
}
