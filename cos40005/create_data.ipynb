{
 "cells": [
  {
   "cell_type": "code",
   "id": "initial_id",
   "metadata": {
    "collapsed": true,
    "ExecuteTime": {
     "end_time": "2024-10-16T02:42:42.753217Z",
     "start_time": "2024-10-16T02:42:41.235351Z"
    }
   },
   "source": [
    "import psycopg2\n",
    "from helper import normalise_price, normalise_area, normalise_address"
   ],
   "execution_count": 1,
   "outputs": []
  },
  {
   "metadata": {
    "ExecuteTime": {
     "end_time": "2024-10-16T04:18:49.097160Z",
     "start_time": "2024-10-16T04:18:48.662585Z"
    }
   },
   "cell_type": "code",
   "source": [
    "conn = psycopg2.connect(database = \"postgres\", \n",
    "                        user = \"postgres.iteuczlaiijtvkpplsms\", \n",
    "                        host= 'aws-0-ap-southeast-1.pooler.supabase.com',\n",
    "                        password = \"aUbEUkOgw23zCDdc\",\n",
    "                        port = 6543)\n",
    "conn.autocommit = True"
   ],
   "id": "6dbed17e207d97f4",
   "execution_count": 17,
   "outputs": []
  },
  {
   "metadata": {
    "ExecuteTime": {
     "end_time": "2024-10-16T04:22:01.443421Z",
     "start_time": "2024-10-16T04:21:57.074227Z"
    }
   },
   "cell_type": "code",
   "source": [
    "cur = conn.cursor()\n",
    "cur.execute(\n",
    "    \"\"\"\n",
    "    SELECT * FROM cos40005_property \n",
    "    WHERE id IS NOT NULL\n",
    "        AND title IS NOT NULL AND title <> ''\n",
    "        AND address IS NOT NULL AND address <> ''\n",
    "        AND price IS NOT NULL AND price <> ''\n",
    "        AND area IS NOT NULL AND area <> '';\n",
    "    \"\"\")\n",
    "rows = cur.fetchall()\n",
    "conn.commit()\n",
    "cur.close()"
   ],
   "id": "ecb468120235cddc",
   "execution_count": 28,
   "outputs": []
  },
  {
   "metadata": {
    "ExecuteTime": {
     "end_time": "2024-10-16T04:22:01.453681Z",
     "start_time": "2024-10-16T04:22:01.446426Z"
    }
   },
   "cell_type": "code",
   "source": "len(rows)",
   "id": "2bd3c2eb43e4d19c",
   "execution_count": 29,
   "outputs": []
  },
  {
   "metadata": {
    "ExecuteTime": {
     "end_time": "2024-10-16T04:18:24.269247Z",
     "start_time": "2024-10-16T04:18:24.261859Z"
    }
   },
   "cell_type": "code",
   "source": "conn.close()",
   "id": "52b9dc741a55349b",
   "execution_count": 15,
   "outputs": []
  },
  {
   "metadata": {
    "ExecuteTime": {
     "end_time": "2024-10-11T03:03:51.272728Z",
     "start_time": "2024-10-11T03:03:51.252894Z"
    }
   },
   "cell_type": "code",
   "source": [
    "f = open(\"./output.csv\", \"w\")\n",
    "f.write(\"id,price,is_rent,area,province,district,ward,floor,bedroom,toilet\\n\")\n",
    "for row in rows:\n",
    "    id = row[0]\n",
    "    norm_price = normalise_price(row[3])\n",
    "    price = norm_price[\"price\"]\n",
    "    is_rent = norm_price[\"is_rent\"]\n",
    "    area = normalise_area(row[4])\n",
    "    norm_addr = normalise_address(row[2])\n",
    "    province = norm_addr[\"province\"]\n",
    "    district = norm_addr[\"district\"]\n",
    "    ward = norm_addr[\"ward\"]\n",
    "    floor = row[5]\n",
    "    bedroom = row[6]\n",
    "    toilet = row[7]\n",
    "    f.write(','.join([id,price,is_rent,area,province,district,ward,floor,bedroom,toilet]) + \"\\n\")\n",
    "f.close()"
   ],
   "id": "32cca7d6b9726b74",
   "execution_count": 32,
   "outputs": []
  },
  {
   "metadata": {
    "ExecuteTime": {
     "end_time": "2024-10-11T03:17:51.191175Z",
     "start_time": "2024-10-11T03:17:51.179234Z"
    }
   },
   "cell_type": "code",
   "source": [
    "import pandas as pd\n",
    "\n",
    "\n",
    "df = pd.DataFrame(pd.read_csv(\"./output.csv\"))\n",
    "df_no_duplicates = df.drop_duplicates(subset=df.columns.difference(['id']))\n",
    "df_no_duplicates.drop('title', axis=1, inplace=True)\n",
    "df_no_duplicates.to_csv('./output_cleaned.csv', index=False)"
   ],
   "id": "f6fdf1d59a07c46d",
   "execution_count": 35,
   "outputs": []
  },
  {
   "metadata": {},
   "cell_type": "code",
   "execution_count": null,
   "source": "",
   "id": "d4e4ace0ed0ed0dd",
   "outputs": []
  }
 ],
 "metadata": {
  "kernelspec": {
   "display_name": "Python 3",
   "language": "python",
   "name": "python3"
  },
  "language_info": {
   "codemirror_mode": {
    "name": "ipython",
    "version": 2
   },
   "file_extension": ".py",
   "mimetype": "text/x-python",
   "name": "python",
   "nbconvert_exporter": "python",
   "pygments_lexer": "ipython2",
   "version": "2.7.6"
  }
 },
 "nbformat": 4,
 "nbformat_minor": 5
}
